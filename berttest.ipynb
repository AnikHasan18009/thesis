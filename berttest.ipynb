{
 "cells": [
  {
   "cell_type": "code",
   "execution_count": 1,
   "id": "0dadff67",
   "metadata": {},
   "outputs": [
    {
     "name": "stderr",
     "output_type": "stream",
     "text": [
      "D:\\Anaconda\\envs\\demo\\lib\\site-packages\\tqdm\\auto.py:22: TqdmWarning: IProgress not found. Please update jupyter and ipywidgets. See https://ipywidgets.readthedocs.io/en/stable/user_install.html\n",
      "  from .autonotebook import tqdm as notebook_tqdm\n"
     ]
    }
   ],
   "source": [
    "\n",
    "import pandas as pd\n",
    "import numpy as np\n",
    "from tqdm.auto import tqdm\n",
    "import tensorflow as tf"
   ]
  },
  {
   "cell_type": "code",
   "execution_count": 2,
   "id": "9579cd0a",
   "metadata": {},
   "outputs": [
    {
     "data": {
      "text/html": [
       "<div>\n",
       "<style scoped>\n",
       "    .dataframe tbody tr th:only-of-type {\n",
       "        vertical-align: middle;\n",
       "    }\n",
       "\n",
       "    .dataframe tbody tr th {\n",
       "        vertical-align: top;\n",
       "    }\n",
       "\n",
       "    .dataframe thead th {\n",
       "        text-align: right;\n",
       "    }\n",
       "</style>\n",
       "<table border=\"1\" class=\"dataframe\">\n",
       "  <thead>\n",
       "    <tr style=\"text-align: right;\">\n",
       "      <th></th>\n",
       "      <th>category</th>\n",
       "      <th>headline</th>\n",
       "      <th>authors</th>\n",
       "      <th>link</th>\n",
       "      <th>short_description</th>\n",
       "      <th>date</th>\n",
       "    </tr>\n",
       "  </thead>\n",
       "  <tbody>\n",
       "    <tr>\n",
       "      <th>0</th>\n",
       "      <td>ENVIRONMENT</td>\n",
       "      <td>Scrap Metal and Electric Cars: Test Your Green...</td>\n",
       "      <td>Paul Schwennesen, Contributor\\nHistorian</td>\n",
       "      <td>https://www.huffingtonpost.com/entry/scrap-met...</td>\n",
       "      <td>I get it that electric gizmos are sexier than ...</td>\n",
       "      <td>2012-09-02</td>\n",
       "    </tr>\n",
       "    <tr>\n",
       "      <th>1</th>\n",
       "      <td>BUSINESS</td>\n",
       "      <td>10 Jobs Disappearing From America: 24/7 Wall St.</td>\n",
       "      <td>24/7 Wall St., 24/7 Wall St.</td>\n",
       "      <td>https://www.huffingtonpost.com/entry/jobs-disa...</td>\n",
       "      <td>There will be more severe declines within cert...</td>\n",
       "      <td>2012-09-02</td>\n",
       "    </tr>\n",
       "    <tr>\n",
       "      <th>2</th>\n",
       "      <td>BUSINESS</td>\n",
       "      <td>The Best Jobs In The United States</td>\n",
       "      <td></td>\n",
       "      <td>https://www.huffingtonpost.com/entry/america-b...</td>\n",
       "      <td>Are you a fan of your job? If not, you may wan...</td>\n",
       "      <td>2012-09-02</td>\n",
       "    </tr>\n",
       "    <tr>\n",
       "      <th>3</th>\n",
       "      <td>BUSINESS</td>\n",
       "      <td>There Once Was a Union-Made</td>\n",
       "      <td>Peter Dreier, Contributor\\nE.P. Clapp Distingu...</td>\n",
       "      <td>https://www.huffingtonpost.com/entry/there-onc...</td>\n",
       "      <td>I walked in and meandered around the shop, loo...</td>\n",
       "      <td>2012-09-02</td>\n",
       "    </tr>\n",
       "    <tr>\n",
       "      <th>4</th>\n",
       "      <td>BUSINESS</td>\n",
       "      <td>Are Politicians Pointing to the Wrong Chinese ...</td>\n",
       "      <td>James Love, Contributor\\nDirector, Knowledge E...</td>\n",
       "      <td>https://www.huffingtonpost.com/entry/wrong-chi...</td>\n",
       "      <td>This dramatic change was discussed last week i...</td>\n",
       "      <td>2012-09-02</td>\n",
       "    </tr>\n",
       "    <tr>\n",
       "      <th>...</th>\n",
       "      <td>...</td>\n",
       "      <td>...</td>\n",
       "      <td>...</td>\n",
       "      <td>...</td>\n",
       "      <td>...</td>\n",
       "      <td>...</td>\n",
       "    </tr>\n",
       "    <tr>\n",
       "      <th>20182</th>\n",
       "      <td>TECH</td>\n",
       "      <td>RIM CEO Thorsten Heins' 'Significant' Plans Fo...</td>\n",
       "      <td>Reuters, Reuters</td>\n",
       "      <td>https://www.huffingtonpost.com/entry/rim-ceo-t...</td>\n",
       "      <td>Verizon Wireless and AT&amp;T are already promotin...</td>\n",
       "      <td>2012-01-28</td>\n",
       "    </tr>\n",
       "    <tr>\n",
       "      <th>20183</th>\n",
       "      <td>SPORTS</td>\n",
       "      <td>Maria Sharapova Stunned By Victoria Azarenka I...</td>\n",
       "      <td></td>\n",
       "      <td>https://www.huffingtonpost.com/entry/maria-sha...</td>\n",
       "      <td>Afterward, Azarenka, more effusive with the pr...</td>\n",
       "      <td>2012-01-28</td>\n",
       "    </tr>\n",
       "    <tr>\n",
       "      <th>20184</th>\n",
       "      <td>SPORTS</td>\n",
       "      <td>Giants Over Patriots, Jets Over Colts Among  M...</td>\n",
       "      <td></td>\n",
       "      <td>https://www.huffingtonpost.com/entry/super-bow...</td>\n",
       "      <td>Leading up to Super Bowl XLVI, the most talked...</td>\n",
       "      <td>2012-01-28</td>\n",
       "    </tr>\n",
       "    <tr>\n",
       "      <th>20185</th>\n",
       "      <td>SPORTS</td>\n",
       "      <td>Aldon Smith Arrested: 49ers Linebacker Busted ...</td>\n",
       "      <td></td>\n",
       "      <td>https://www.huffingtonpost.com/entry/aldon-smi...</td>\n",
       "      <td>CORRECTION: An earlier version of this story i...</td>\n",
       "      <td>2012-01-28</td>\n",
       "    </tr>\n",
       "    <tr>\n",
       "      <th>20186</th>\n",
       "      <td>SPORTS</td>\n",
       "      <td>Dwight Howard Rips Teammates After Magic Loss ...</td>\n",
       "      <td></td>\n",
       "      <td>https://www.huffingtonpost.com/entry/dwight-ho...</td>\n",
       "      <td>The five-time all-star center tore into his te...</td>\n",
       "      <td>2012-01-28</td>\n",
       "    </tr>\n",
       "  </tbody>\n",
       "</table>\n",
       "<p>20187 rows × 6 columns</p>\n",
       "</div>"
      ],
      "text/plain": [
       "          category                                           headline  \\\n",
       "0      ENVIRONMENT  Scrap Metal and Electric Cars: Test Your Green...   \n",
       "1         BUSINESS   10 Jobs Disappearing From America: 24/7 Wall St.   \n",
       "2         BUSINESS                 The Best Jobs In The United States   \n",
       "3         BUSINESS                        There Once Was a Union-Made   \n",
       "4         BUSINESS  Are Politicians Pointing to the Wrong Chinese ...   \n",
       "...            ...                                                ...   \n",
       "20182         TECH  RIM CEO Thorsten Heins' 'Significant' Plans Fo...   \n",
       "20183       SPORTS  Maria Sharapova Stunned By Victoria Azarenka I...   \n",
       "20184       SPORTS  Giants Over Patriots, Jets Over Colts Among  M...   \n",
       "20185       SPORTS  Aldon Smith Arrested: 49ers Linebacker Busted ...   \n",
       "20186       SPORTS  Dwight Howard Rips Teammates After Magic Loss ...   \n",
       "\n",
       "                                                 authors  \\\n",
       "0               Paul Schwennesen, Contributor\\nHistorian   \n",
       "1                           24/7 Wall St., 24/7 Wall St.   \n",
       "2                                                          \n",
       "3      Peter Dreier, Contributor\\nE.P. Clapp Distingu...   \n",
       "4      James Love, Contributor\\nDirector, Knowledge E...   \n",
       "...                                                  ...   \n",
       "20182                                   Reuters, Reuters   \n",
       "20183                                                      \n",
       "20184                                                      \n",
       "20185                                                      \n",
       "20186                                                      \n",
       "\n",
       "                                                    link  \\\n",
       "0      https://www.huffingtonpost.com/entry/scrap-met...   \n",
       "1      https://www.huffingtonpost.com/entry/jobs-disa...   \n",
       "2      https://www.huffingtonpost.com/entry/america-b...   \n",
       "3      https://www.huffingtonpost.com/entry/there-onc...   \n",
       "4      https://www.huffingtonpost.com/entry/wrong-chi...   \n",
       "...                                                  ...   \n",
       "20182  https://www.huffingtonpost.com/entry/rim-ceo-t...   \n",
       "20183  https://www.huffingtonpost.com/entry/maria-sha...   \n",
       "20184  https://www.huffingtonpost.com/entry/super-bow...   \n",
       "20185  https://www.huffingtonpost.com/entry/aldon-smi...   \n",
       "20186  https://www.huffingtonpost.com/entry/dwight-ho...   \n",
       "\n",
       "                                       short_description       date  \n",
       "0      I get it that electric gizmos are sexier than ... 2012-09-02  \n",
       "1      There will be more severe declines within cert... 2012-09-02  \n",
       "2      Are you a fan of your job? If not, you may wan... 2012-09-02  \n",
       "3      I walked in and meandered around the shop, loo... 2012-09-02  \n",
       "4      This dramatic change was discussed last week i... 2012-09-02  \n",
       "...                                                  ...        ...  \n",
       "20182  Verizon Wireless and AT&T are already promotin... 2012-01-28  \n",
       "20183  Afterward, Azarenka, more effusive with the pr... 2012-01-28  \n",
       "20184  Leading up to Super Bowl XLVI, the most talked... 2012-01-28  \n",
       "20185  CORRECTION: An earlier version of this story i... 2012-01-28  \n",
       "20186  The five-time all-star center tore into his te... 2012-01-28  \n",
       "\n",
       "[20187 rows x 6 columns]"
      ]
     },
     "execution_count": 2,
     "metadata": {},
     "output_type": "execute_result"
    }
   ],
   "source": [
    "df = pd.read_json(\"News_Category2.json\", lines=True)\n",
    "df"
   ]
  },
  {
   "cell_type": "code",
   "execution_count": 3,
   "id": "7ce5e092",
   "metadata": {},
   "outputs": [
    {
     "data": {
      "text/plain": [
       "WELLNESS          4539\n",
       "STYLE & BEAUTY    3802\n",
       "TRAVEL            2041\n",
       "PARENTING         1932\n",
       "MONEY             1016\n",
       "WEDDINGS          1008\n",
       "HOME & LIVING     1003\n",
       "FOOD & DRINK       947\n",
       "DIVORCE            848\n",
       "BUSINESS           407\n",
       "ENTERTAINMENT      349\n",
       "COMEDY             346\n",
       "ENVIRONMENT        314\n",
       "QUEER VOICES       287\n",
       "TECH               275\n",
       "SCIENCE            221\n",
       "BLACK VOICES       217\n",
       "IMPACT             208\n",
       "CULTURE & ARTS     200\n",
       "CRIME              117\n",
       "SPORTS             110\n",
       "Name: category, dtype: int64"
      ]
     },
     "execution_count": 3,
     "metadata": {},
     "output_type": "execute_result"
    }
   ],
   "source": [
    "df['category'].value_counts()"
   ]
  },
  {
   "cell_type": "code",
   "execution_count": 4,
   "id": "fe67fb10",
   "metadata": {},
   "outputs": [
    {
     "name": "stdout",
     "output_type": "stream",
     "text": [
      "BLACK VOICES  0\n",
      "BUSINESS  1\n",
      "COMEDY  2\n",
      "CRIME  3\n",
      "CULTURE & ARTS  4\n",
      "DIVORCE  5\n",
      "ENTERTAINMENT  6\n",
      "ENVIRONMENT  7\n",
      "FOOD & DRINK  8\n",
      "HOME & LIVING  9\n",
      "IMPACT  10\n",
      "MONEY  11\n",
      "PARENTING  12\n",
      "QUEER VOICES  13\n",
      "SCIENCE  14\n",
      "SPORTS  15\n",
      "STYLE & BEAUTY  16\n",
      "TECH  17\n",
      "TRAVEL  18\n",
      "WEDDINGS  19\n",
      "WELLNESS  20\n"
     ]
    }
   ],
   "source": [
    "from sklearn.preprocessing import LabelEncoder\n",
    "le=LabelEncoder()\n",
    "le.fit(df['category'])\n",
    "i=0\n",
    "d={}\n",
    "for x in le.classes_:\n",
    "    print('{}  {}'.format(x,i))\n",
    "    d[x]=i\n",
    "    i=i+1"
   ]
  },
  {
   "cell_type": "code",
   "execution_count": 5,
   "id": "8c468966",
   "metadata": {},
   "outputs": [
    {
     "data": {
      "text/html": [
       "<div>\n",
       "<style scoped>\n",
       "    .dataframe tbody tr th:only-of-type {\n",
       "        vertical-align: middle;\n",
       "    }\n",
       "\n",
       "    .dataframe tbody tr th {\n",
       "        vertical-align: top;\n",
       "    }\n",
       "\n",
       "    .dataframe thead th {\n",
       "        text-align: right;\n",
       "    }\n",
       "</style>\n",
       "<table border=\"1\" class=\"dataframe\">\n",
       "  <thead>\n",
       "    <tr style=\"text-align: right;\">\n",
       "      <th></th>\n",
       "      <th>category</th>\n",
       "      <th>headline</th>\n",
       "      <th>authors</th>\n",
       "      <th>link</th>\n",
       "      <th>short_description</th>\n",
       "      <th>date</th>\n",
       "      <th>encoded category</th>\n",
       "    </tr>\n",
       "  </thead>\n",
       "  <tbody>\n",
       "    <tr>\n",
       "      <th>0</th>\n",
       "      <td>ENVIRONMENT</td>\n",
       "      <td>Scrap Metal and Electric Cars: Test Your Green...</td>\n",
       "      <td>Paul Schwennesen, Contributor\\nHistorian</td>\n",
       "      <td>https://www.huffingtonpost.com/entry/scrap-met...</td>\n",
       "      <td>I get it that electric gizmos are sexier than ...</td>\n",
       "      <td>2012-09-02</td>\n",
       "      <td>7</td>\n",
       "    </tr>\n",
       "    <tr>\n",
       "      <th>1</th>\n",
       "      <td>BUSINESS</td>\n",
       "      <td>10 Jobs Disappearing From America: 24/7 Wall St.</td>\n",
       "      <td>24/7 Wall St., 24/7 Wall St.</td>\n",
       "      <td>https://www.huffingtonpost.com/entry/jobs-disa...</td>\n",
       "      <td>There will be more severe declines within cert...</td>\n",
       "      <td>2012-09-02</td>\n",
       "      <td>1</td>\n",
       "    </tr>\n",
       "    <tr>\n",
       "      <th>2</th>\n",
       "      <td>BUSINESS</td>\n",
       "      <td>The Best Jobs In The United States</td>\n",
       "      <td></td>\n",
       "      <td>https://www.huffingtonpost.com/entry/america-b...</td>\n",
       "      <td>Are you a fan of your job? If not, you may wan...</td>\n",
       "      <td>2012-09-02</td>\n",
       "      <td>1</td>\n",
       "    </tr>\n",
       "    <tr>\n",
       "      <th>3</th>\n",
       "      <td>BUSINESS</td>\n",
       "      <td>There Once Was a Union-Made</td>\n",
       "      <td>Peter Dreier, Contributor\\nE.P. Clapp Distingu...</td>\n",
       "      <td>https://www.huffingtonpost.com/entry/there-onc...</td>\n",
       "      <td>I walked in and meandered around the shop, loo...</td>\n",
       "      <td>2012-09-02</td>\n",
       "      <td>1</td>\n",
       "    </tr>\n",
       "    <tr>\n",
       "      <th>4</th>\n",
       "      <td>BUSINESS</td>\n",
       "      <td>Are Politicians Pointing to the Wrong Chinese ...</td>\n",
       "      <td>James Love, Contributor\\nDirector, Knowledge E...</td>\n",
       "      <td>https://www.huffingtonpost.com/entry/wrong-chi...</td>\n",
       "      <td>This dramatic change was discussed last week i...</td>\n",
       "      <td>2012-09-02</td>\n",
       "      <td>1</td>\n",
       "    </tr>\n",
       "    <tr>\n",
       "      <th>...</th>\n",
       "      <td>...</td>\n",
       "      <td>...</td>\n",
       "      <td>...</td>\n",
       "      <td>...</td>\n",
       "      <td>...</td>\n",
       "      <td>...</td>\n",
       "      <td>...</td>\n",
       "    </tr>\n",
       "    <tr>\n",
       "      <th>20182</th>\n",
       "      <td>TECH</td>\n",
       "      <td>RIM CEO Thorsten Heins' 'Significant' Plans Fo...</td>\n",
       "      <td>Reuters, Reuters</td>\n",
       "      <td>https://www.huffingtonpost.com/entry/rim-ceo-t...</td>\n",
       "      <td>Verizon Wireless and AT&amp;T are already promotin...</td>\n",
       "      <td>2012-01-28</td>\n",
       "      <td>17</td>\n",
       "    </tr>\n",
       "    <tr>\n",
       "      <th>20183</th>\n",
       "      <td>SPORTS</td>\n",
       "      <td>Maria Sharapova Stunned By Victoria Azarenka I...</td>\n",
       "      <td></td>\n",
       "      <td>https://www.huffingtonpost.com/entry/maria-sha...</td>\n",
       "      <td>Afterward, Azarenka, more effusive with the pr...</td>\n",
       "      <td>2012-01-28</td>\n",
       "      <td>15</td>\n",
       "    </tr>\n",
       "    <tr>\n",
       "      <th>20184</th>\n",
       "      <td>SPORTS</td>\n",
       "      <td>Giants Over Patriots, Jets Over Colts Among  M...</td>\n",
       "      <td></td>\n",
       "      <td>https://www.huffingtonpost.com/entry/super-bow...</td>\n",
       "      <td>Leading up to Super Bowl XLVI, the most talked...</td>\n",
       "      <td>2012-01-28</td>\n",
       "      <td>15</td>\n",
       "    </tr>\n",
       "    <tr>\n",
       "      <th>20185</th>\n",
       "      <td>SPORTS</td>\n",
       "      <td>Aldon Smith Arrested: 49ers Linebacker Busted ...</td>\n",
       "      <td></td>\n",
       "      <td>https://www.huffingtonpost.com/entry/aldon-smi...</td>\n",
       "      <td>CORRECTION: An earlier version of this story i...</td>\n",
       "      <td>2012-01-28</td>\n",
       "      <td>15</td>\n",
       "    </tr>\n",
       "    <tr>\n",
       "      <th>20186</th>\n",
       "      <td>SPORTS</td>\n",
       "      <td>Dwight Howard Rips Teammates After Magic Loss ...</td>\n",
       "      <td></td>\n",
       "      <td>https://www.huffingtonpost.com/entry/dwight-ho...</td>\n",
       "      <td>The five-time all-star center tore into his te...</td>\n",
       "      <td>2012-01-28</td>\n",
       "      <td>15</td>\n",
       "    </tr>\n",
       "  </tbody>\n",
       "</table>\n",
       "<p>20187 rows × 7 columns</p>\n",
       "</div>"
      ],
      "text/plain": [
       "          category                                           headline  \\\n",
       "0      ENVIRONMENT  Scrap Metal and Electric Cars: Test Your Green...   \n",
       "1         BUSINESS   10 Jobs Disappearing From America: 24/7 Wall St.   \n",
       "2         BUSINESS                 The Best Jobs In The United States   \n",
       "3         BUSINESS                        There Once Was a Union-Made   \n",
       "4         BUSINESS  Are Politicians Pointing to the Wrong Chinese ...   \n",
       "...            ...                                                ...   \n",
       "20182         TECH  RIM CEO Thorsten Heins' 'Significant' Plans Fo...   \n",
       "20183       SPORTS  Maria Sharapova Stunned By Victoria Azarenka I...   \n",
       "20184       SPORTS  Giants Over Patriots, Jets Over Colts Among  M...   \n",
       "20185       SPORTS  Aldon Smith Arrested: 49ers Linebacker Busted ...   \n",
       "20186       SPORTS  Dwight Howard Rips Teammates After Magic Loss ...   \n",
       "\n",
       "                                                 authors  \\\n",
       "0               Paul Schwennesen, Contributor\\nHistorian   \n",
       "1                           24/7 Wall St., 24/7 Wall St.   \n",
       "2                                                          \n",
       "3      Peter Dreier, Contributor\\nE.P. Clapp Distingu...   \n",
       "4      James Love, Contributor\\nDirector, Knowledge E...   \n",
       "...                                                  ...   \n",
       "20182                                   Reuters, Reuters   \n",
       "20183                                                      \n",
       "20184                                                      \n",
       "20185                                                      \n",
       "20186                                                      \n",
       "\n",
       "                                                    link  \\\n",
       "0      https://www.huffingtonpost.com/entry/scrap-met...   \n",
       "1      https://www.huffingtonpost.com/entry/jobs-disa...   \n",
       "2      https://www.huffingtonpost.com/entry/america-b...   \n",
       "3      https://www.huffingtonpost.com/entry/there-onc...   \n",
       "4      https://www.huffingtonpost.com/entry/wrong-chi...   \n",
       "...                                                  ...   \n",
       "20182  https://www.huffingtonpost.com/entry/rim-ceo-t...   \n",
       "20183  https://www.huffingtonpost.com/entry/maria-sha...   \n",
       "20184  https://www.huffingtonpost.com/entry/super-bow...   \n",
       "20185  https://www.huffingtonpost.com/entry/aldon-smi...   \n",
       "20186  https://www.huffingtonpost.com/entry/dwight-ho...   \n",
       "\n",
       "                                       short_description       date  \\\n",
       "0      I get it that electric gizmos are sexier than ... 2012-09-02   \n",
       "1      There will be more severe declines within cert... 2012-09-02   \n",
       "2      Are you a fan of your job? If not, you may wan... 2012-09-02   \n",
       "3      I walked in and meandered around the shop, loo... 2012-09-02   \n",
       "4      This dramatic change was discussed last week i... 2012-09-02   \n",
       "...                                                  ...        ...   \n",
       "20182  Verizon Wireless and AT&T are already promotin... 2012-01-28   \n",
       "20183  Afterward, Azarenka, more effusive with the pr... 2012-01-28   \n",
       "20184  Leading up to Super Bowl XLVI, the most talked... 2012-01-28   \n",
       "20185  CORRECTION: An earlier version of this story i... 2012-01-28   \n",
       "20186  The five-time all-star center tore into his te... 2012-01-28   \n",
       "\n",
       "       encoded category  \n",
       "0                     7  \n",
       "1                     1  \n",
       "2                     1  \n",
       "3                     1  \n",
       "4                     1  \n",
       "...                 ...  \n",
       "20182                17  \n",
       "20183                15  \n",
       "20184                15  \n",
       "20185                15  \n",
       "20186                15  \n",
       "\n",
       "[20187 rows x 7 columns]"
      ]
     },
     "execution_count": 5,
     "metadata": {},
     "output_type": "execute_result"
    }
   ],
   "source": [
    "df['encoded category']=le.transform(df['category'])\n",
    "df['encoded category']=df['encoded category'].astype(int)\n",
    "df"
   ]
  },
  {
   "cell_type": "code",
   "execution_count": 6,
   "id": "e23191fb",
   "metadata": {},
   "outputs": [],
   "source": [
    "from tensorflow.keras.utils import to_categorical\n",
    "y=to_categorical(df['encoded category'])\n"
   ]
  },
  {
   "cell_type": "code",
   "execution_count": 74,
   "id": "d4971f14",
   "metadata": {},
   "outputs": [],
   "source": [
    "from sklearn.model_selection import train_test_split\n",
    "\n",
    "x_train, x_val, y_train, y_val = train_test_split(df.headline.values, \n",
    "                                                  y, \n",
    "                                                  test_size=0.2, \n",
    "                                                  random_state=42, \n",
    "                                                  stratify=df['encoded category'].values)"
   ]
  },
  {
   "cell_type": "code",
   "execution_count": 79,
   "id": "c1162000",
   "metadata": {},
   "outputs": [
    {
     "data": {
      "text/plain": [
       "array([13, 19, 20, ..., 18,  4, 20], dtype=int64)"
      ]
     },
     "execution_count": 79,
     "metadata": {},
     "output_type": "execute_result"
    }
   ],
   "source": [
    "y_test=np.argmax(y_val,axis=-1)\n",
    "y_test"
   ]
  },
  {
   "cell_type": "code",
   "execution_count": 8,
   "id": "3c53b5bf",
   "metadata": {},
   "outputs": [],
   "source": [
    "from transformers import BertTokenizer\n",
    "tokenizer=BertTokenizer.from_pretrained('bert-base-cased')"
   ]
  },
  {
   "cell_type": "code",
   "execution_count": 103,
   "id": "da5e76c3",
   "metadata": {},
   "outputs": [],
   "source": [
    "x_train = tokenizer(\n",
    "    text=x_train.tolist(),\n",
    "    add_special_tokens=True,\n",
    "    max_length=128,\n",
    "    truncation=False,\n",
    "    padding='max_length', \n",
    "    return_tensors='tf',\n",
    "    return_token_type_ids = False,\n",
    "    return_attention_mask = True,\n",
    "    verbose = True)\n",
    "\n"
   ]
  },
  {
   "cell_type": "code",
   "execution_count": 104,
   "id": "46e92326",
   "metadata": {},
   "outputs": [
    {
     "data": {
      "text/plain": [
       "TensorShape([16149, 128])"
      ]
     },
     "execution_count": 104,
     "metadata": {},
     "output_type": "execute_result"
    }
   ],
   "source": [
    "x_train['input_ids'].shape"
   ]
  },
  {
   "cell_type": "code",
   "execution_count": 105,
   "id": "dae61443",
   "metadata": {},
   "outputs": [],
   "source": [
    "x_test = tokenizer(\n",
    "    text=x_val.tolist(),\n",
    "    add_special_tokens=True,\n",
    "    max_length=128,\n",
    "    truncation=True,\n",
    "    padding='max_length', \n",
    "    return_tensors='tf',\n",
    "    return_token_type_ids = False,\n",
    "    return_attention_mask = True,\n",
    "    verbose = True)"
   ]
  },
  {
   "cell_type": "code",
   "execution_count": 12,
   "id": "6e36eea3",
   "metadata": {},
   "outputs": [],
   "source": [
    "import tensorflow as tf\n",
    "from tensorflow.keras.optimizers import Adam\n",
    "from tensorflow.keras.callbacks import EarlyStopping\n",
    "from tensorflow.keras.initializers import TruncatedNormal\n",
    "from tensorflow.keras.losses import CategoricalCrossentropy\n",
    "from tensorflow.keras.metrics import CategoricalAccuracy\n",
    "from tensorflow.keras.utils import to_categorical\n",
    "from tensorflow.keras.layers import Input, Dense"
   ]
  },
  {
   "cell_type": "code",
   "execution_count": 106,
   "id": "c856d8cd",
   "metadata": {},
   "outputs": [],
   "source": [
    "input_ids = x_train['input_ids']\n",
    "attention_mask = x_train['attention_mask']"
   ]
  },
  {
   "cell_type": "code",
   "execution_count": 14,
   "id": "a2a60da6",
   "metadata": {},
   "outputs": [
    {
     "name": "stderr",
     "output_type": "stream",
     "text": [
      "Some layers from the model checkpoint at bert-base-cased were not used when initializing TFBertModel: ['nsp___cls', 'mlm___cls']\n",
      "- This IS expected if you are initializing TFBertModel from the checkpoint of a model trained on another task or with another architecture (e.g. initializing a BertForSequenceClassification model from a BertForPreTraining model).\n",
      "- This IS NOT expected if you are initializing TFBertModel from the checkpoint of a model that you expect to be exactly identical (initializing a BertForSequenceClassification model from a BertForSequenceClassification model).\n",
      "All the layers of TFBertModel were initialized from the model checkpoint at bert-base-cased.\n",
      "If your task is similar to the task the model of the checkpoint was trained on, you can already use TFBertModel for predictions without further training.\n"
     ]
    }
   ],
   "source": [
    "from transformers import TFBertModel\n",
    "bert = TFBertModel.from_pretrained(\"bert-base-cased\")"
   ]
  },
  {
   "cell_type": "code",
   "execution_count": 15,
   "id": "c2a8fb35",
   "metadata": {},
   "outputs": [],
   "source": [
    "max_len = 128\n",
    "input_ids = Input(shape=(max_len,), dtype=tf.int32, name=\"input_ids\")\n",
    "input_mask = Input(shape=(max_len,), dtype=tf.int32, name=\"attention_mask\")\n",
    "embeddings = bert(input_ids,attention_mask = input_mask)[1] \n",
    "# out = tf.keras.layers.GlobalMaxPool1D()(embeddings)\n",
    "# out = Dense(168, activation='relu')(out)\n",
    "# out = tf.keras.layers.Dropout(0.1)(out)\n",
    "# out = Dense(84,activation = 'relu')(out)\n",
    "#y = Dense(42,activation = 'sigmoid')(out)\n",
    "intermediate_layer = tf.keras.layers.Dense(256, activation='relu', name='intermediate_layer')(embeddings)\n",
    "output_layer = tf.keras.layers.Dense(21, activation='softmax', name='output_layer')(intermediate_layer)\n",
    "\n",
    "model = tf.keras.Model(inputs=[input_ids, input_mask], outputs=output_layer)\n",
    "model.layers[2].trainable = True"
   ]
  },
  {
   "cell_type": "code",
   "execution_count": 16,
   "id": "fe4a32a6",
   "metadata": {},
   "outputs": [],
   "source": [
    "# optim = tf.keras.optimizers.Adam(learning_rate=1e-5)\n",
    "# #loss_func = tf.keras.losses.CategoricalCrossentropy()\n",
    "# acc = tf.keras.metrics.CategoricalAccuracy('accuracy')\n",
    "# optimizer = Adam(\n",
    "#     learning_rate=5e-05, # this learning rate is for bert model , taken from huggingface website \n",
    "#     epsilon=1e-08,\n",
    "#     clipnorm=1.0)\n",
    "# # Set loss and metrics\n",
    "# loss =CategoricalCrossentropy(from_logits = True)\n",
    "# metric = CategoricalAccuracy('balanced_accuracy'),\n",
    "# # Compile the model\n",
    "# model.compile(\n",
    "#     optimizer = optim,\n",
    "#     loss = loss, \n",
    "#     metrics = [acc])"
   ]
  },
  {
   "cell_type": "code",
   "execution_count": 17,
   "id": "61809272",
   "metadata": {},
   "outputs": [],
   "source": [
    "optim = tf.keras.optimizers.Adam(learning_rate=1e-5)\n",
    "loss_func = tf.keras.losses.CategoricalCrossentropy()\n",
    "acc = tf.keras.metrics.CategoricalAccuracy('accuracy')\n",
    "model.compile(optimizer=optim, loss=loss_func, metrics=[acc])\n",
    "\n"
   ]
  },
  {
   "cell_type": "code",
   "execution_count": null,
   "id": "81488516",
   "metadata": {},
   "outputs": [
    {
     "name": "stdout",
     "output_type": "stream",
     "text": [
      " 55/505 [==>...........................] - ETA: 5:25:36 - loss: 0.9754 - accuracy: 0.7375"
     ]
    }
   ],
   "source": [
    "train_history = model.fit(\n",
    "    x ={'input_ids':x_train['input_ids'],'attention_mask':x_train['attention_mask']} ,\n",
    "    y = y_train,\n",
    "    validation_data = (\n",
    "    {'input_ids':x_test['input_ids'],'attention_mask':x_test['attention_mask']}, y_val\n",
    "    ),\n",
    "  epochs=1,\n",
    "    batch_size=32\n",
    ")"
   ]
  },
  {
   "cell_type": "code",
   "execution_count": 19,
   "id": "b06be4cd",
   "metadata": {},
   "outputs": [
    {
     "name": "stderr",
     "output_type": "stream",
     "text": [
      "WARNING:absl:Found untraced functions such as _update_step_xla, embeddings_layer_call_fn, embeddings_layer_call_and_return_conditional_losses, encoder_layer_call_fn, encoder_layer_call_and_return_conditional_losses while saving (showing 5 of 421). These functions will not be directly callable after loading.\n"
     ]
    },
    {
     "name": "stdout",
     "output_type": "stream",
     "text": [
      "INFO:tensorflow:Assets written to: news_classification\\assets\n"
     ]
    },
    {
     "name": "stderr",
     "output_type": "stream",
     "text": [
      "INFO:tensorflow:Assets written to: news_classification\\assets\n"
     ]
    }
   ],
   "source": [
    "#model.save('news_classification')"
   ]
  },
  {
   "cell_type": "code",
   "execution_count": null,
   "id": "970580d1",
   "metadata": {},
   "outputs": [],
   "source": []
  },
  {
   "cell_type": "code",
   "execution_count": 47,
   "id": "7a8ff656",
   "metadata": {},
   "outputs": [],
   "source": [
    "#sentiment_model = tf.keras.models.load_model('sentiment_model')\n",
    "\n",
    "tokenizer = BertTokenizer.from_pretrained('bert-base-cased')\n",
    "\n",
    "def prepare_data(input_text, tokenizer):\n",
    "    token = tokenizer(\n",
    "    text=input_text,\n",
    "    add_special_tokens=True,\n",
    "    max_length=128,\n",
    "    truncation=True,\n",
    "    padding='max_length', \n",
    "    return_tensors='tf',\n",
    "    return_token_type_ids = False,\n",
    "    return_attention_mask = True,\n",
    "    verbose = True)\n",
    "    \n",
    "    return {\n",
    "        'input_ids': token.input_ids,\n",
    "        'attention_mask': token.attention_mask\n",
    "    }\n",
    "\n",
    "def make_prediction(model, processed_data):\n",
    "    probs = model.predict(processed_data)\n",
    "    return probs\n",
    "\n",
    "     "
   ]
  },
  {
   "cell_type": "code",
   "execution_count": 81,
   "id": "6d97052c",
   "metadata": {},
   "outputs": [
    {
     "name": "stdout",
     "output_type": "stream",
     "text": [
      "127/127 [==============================] - 1105s 9s/step\n"
     ]
    }
   ],
   "source": [
    "predictions=make_prediction(model,{'input_ids': x_test['input_ids'],\n",
    "        'attention_mask': x_test['attention_mask']})"
   ]
  },
  {
   "cell_type": "code",
   "execution_count": 94,
   "id": "d7b19726",
   "metadata": {},
   "outputs": [],
   "source": [
    "#model.save('News_Classification.h5')\n",
    "# model.save(\n",
    "#     \"C:/Users/TACHLAND/Untitled Folder/nc\",\n",
    "#     overwrite=True,\n",
    "#     include_optimizer=True,\n",
    "#     save_format=None,\n",
    "#     signatures=None,\n",
    "#     options=None,\n",
    "#     save_traces=True,\n",
    "# )\n",
    "#model.save_weights('nc_weights/')"
   ]
  },
  {
   "cell_type": "code",
   "execution_count": 97,
   "id": "90018fdf",
   "metadata": {},
   "outputs": [
    {
     "name": "stdout",
     "output_type": "stream",
     "text": [
      "[13 19 20 ... 18  4 20] [20 19 20 ... 20 20 20]\n"
     ]
    }
   ],
   "source": [
    "#y_predicted = np.argmax(predictions, axis = 1)\n",
    "print(y_test,y_predicted)"
   ]
  },
  {
   "cell_type": "code",
   "execution_count": 101,
   "id": "f8667eba",
   "metadata": {},
   "outputs": [
    {
     "data": {
      "text/html": [
       "<div>\n",
       "<style scoped>\n",
       "    .dataframe tbody tr th:only-of-type {\n",
       "        vertical-align: middle;\n",
       "    }\n",
       "\n",
       "    .dataframe tbody tr th {\n",
       "        vertical-align: top;\n",
       "    }\n",
       "\n",
       "    .dataframe thead th {\n",
       "        text-align: right;\n",
       "    }\n",
       "</style>\n",
       "<table border=\"1\" class=\"dataframe\">\n",
       "  <thead>\n",
       "    <tr style=\"text-align: right;\">\n",
       "      <th></th>\n",
       "      <th>Actual</th>\n",
       "      <th>Predicted</th>\n",
       "    </tr>\n",
       "  </thead>\n",
       "  <tbody>\n",
       "    <tr>\n",
       "      <th>0</th>\n",
       "      <td>13</td>\n",
       "      <td>20</td>\n",
       "    </tr>\n",
       "    <tr>\n",
       "      <th>1</th>\n",
       "      <td>19</td>\n",
       "      <td>19</td>\n",
       "    </tr>\n",
       "    <tr>\n",
       "      <th>2</th>\n",
       "      <td>20</td>\n",
       "      <td>20</td>\n",
       "    </tr>\n",
       "    <tr>\n",
       "      <th>3</th>\n",
       "      <td>16</td>\n",
       "      <td>16</td>\n",
       "    </tr>\n",
       "    <tr>\n",
       "      <th>4</th>\n",
       "      <td>20</td>\n",
       "      <td>20</td>\n",
       "    </tr>\n",
       "    <tr>\n",
       "      <th>...</th>\n",
       "      <td>...</td>\n",
       "      <td>...</td>\n",
       "    </tr>\n",
       "    <tr>\n",
       "      <th>4033</th>\n",
       "      <td>13</td>\n",
       "      <td>16</td>\n",
       "    </tr>\n",
       "    <tr>\n",
       "      <th>4034</th>\n",
       "      <td>8</td>\n",
       "      <td>8</td>\n",
       "    </tr>\n",
       "    <tr>\n",
       "      <th>4035</th>\n",
       "      <td>18</td>\n",
       "      <td>20</td>\n",
       "    </tr>\n",
       "    <tr>\n",
       "      <th>4036</th>\n",
       "      <td>4</td>\n",
       "      <td>20</td>\n",
       "    </tr>\n",
       "    <tr>\n",
       "      <th>4037</th>\n",
       "      <td>20</td>\n",
       "      <td>20</td>\n",
       "    </tr>\n",
       "  </tbody>\n",
       "</table>\n",
       "<p>4038 rows × 2 columns</p>\n",
       "</div>"
      ],
      "text/plain": [
       "      Actual  Predicted\n",
       "0         13         20\n",
       "1         19         19\n",
       "2         20         20\n",
       "3         16         16\n",
       "4         20         20\n",
       "...      ...        ...\n",
       "4033      13         16\n",
       "4034       8          8\n",
       "4035      18         20\n",
       "4036       4         20\n",
       "4037      20         20\n",
       "\n",
       "[4038 rows x 2 columns]"
      ]
     },
     "execution_count": 101,
     "metadata": {},
     "output_type": "execute_result"
    }
   ],
   "source": [
    "df_result=pd.DataFrame({\"Actual\":y_test,\"Predicted\":y_predicted})\n",
    "df_result"
   ]
  },
  {
   "cell_type": "code",
   "execution_count": 102,
   "id": "c1e1ac4e",
   "metadata": {},
   "outputs": [
    {
     "name": "stdout",
     "output_type": "stream",
     "text": [
      "Enter news here: Latest Coke Studio Bangla song leaked before premiere\n",
      "1/1 [==============================] - 1s 1s/step\n",
      "[0.01970146 0.01043989 0.10129419 0.0129534  0.01902313 0.02975629\n",
      " 0.15596475 0.00925603 0.02468767 0.01520991 0.02015223 0.00619036\n",
      " 0.12924623 0.01769197 0.00770015 0.01386194 0.21669786 0.06589416\n",
      " 0.02528338 0.03193806 0.06705695]\n",
      "Predicted Class is STYLE & BEAUTY\n"
     ]
    }
   ],
   "source": [
    "input_text = input('Enter news here: ')\n",
    "processed_data = prepare_data(input_text, tokenizer)\n",
    "result = make_prediction(model, processed_data)\n",
    "print(result[0])\n",
    "\n",
    "cls=np.argmax(result[0],axis=-1)\n",
    "for x in d:\n",
    "    if(d[x]==cls):\n",
    "        print(\"Predicted Class is \"+x)\n",
    "        break"
   ]
  },
  {
   "cell_type": "code",
   "execution_count": null,
   "id": "c182798e",
   "metadata": {},
   "outputs": [],
   "source": []
  },
  {
   "cell_type": "code",
   "execution_count": null,
   "id": "725cdc1a",
   "metadata": {},
   "outputs": [],
   "source": []
  }
 ],
 "metadata": {
  "kernelspec": {
   "display_name": "Python 3 (ipykernel)",
   "language": "python",
   "name": "python3"
  },
  "language_info": {
   "codemirror_mode": {
    "name": "ipython",
    "version": 3
   },
   "file_extension": ".py",
   "mimetype": "text/x-python",
   "name": "python",
   "nbconvert_exporter": "python",
   "pygments_lexer": "ipython3",
   "version": "3.9.16"
  }
 },
 "nbformat": 4,
 "nbformat_minor": 5
}
